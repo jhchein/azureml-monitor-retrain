{
  "cells": [
    {
      "cell_type": "markdown",
      "metadata": {
        "nteract": {
          "transient": {
            "deleting": false
          }
        }
      },
      "source": [
        "# TODO\n",
        "- [x] Fix MLTable Access\n",
        "- [x] Add today offset to dataset. Split production in half\n",
        "  - [x] We don't need test, rename current to production.\n",
        "  - [x] Which Schedule frequency? -> Weekly?\n",
        "  - [ ] Add 7 day offset.\n",
        "- [ ] Create Model Outputs (Notebook 01)\n",
        "- [ ] Document Notebooks"
      ]
    },
    {
      "cell_type": "markdown",
      "metadata": {
        "nteract": {
          "transient": {
            "deleting": false
          }
        }
      },
      "source": [
        "# Data Set Preparation"
      ]
    },
    {
      "cell_type": "code",
      "execution_count": 1,
      "metadata": {
        "gather": {
          "logged": 1707995123093
        }
      },
      "outputs": [],
      "source": [
        "import os\n",
        "import shutil\n",
        "import pandas as pd"
      ]
    },
    {
      "cell_type": "code",
      "execution_count": 3,
      "metadata": {
        "gather": {
          "logged": 1707995123660
        },
        "jupyter": {
          "outputs_hidden": false,
          "source_hidden": false
        },
        "nteract": {
          "transient": {
            "deleting": false
          }
        }
      },
      "outputs": [
        {
          "data": {
            "text/html": [
              "<div>\n",
              "<style scoped>\n",
              "    .dataframe tbody tr th:only-of-type {\n",
              "        vertical-align: middle;\n",
              "    }\n",
              "\n",
              "    .dataframe tbody tr th {\n",
              "        vertical-align: top;\n",
              "    }\n",
              "\n",
              "    .dataframe thead th {\n",
              "        text-align: right;\n",
              "    }\n",
              "</style>\n",
              "<table border=\"1\" class=\"dataframe\">\n",
              "  <thead>\n",
              "    <tr style=\"text-align: right;\">\n",
              "      <th></th>\n",
              "      <th>timestamp</th>\n",
              "      <th>heat_deviation</th>\n",
              "      <th>speed_deviation</th>\n",
              "      <th>days_since_last_service</th>\n",
              "      <th>sensor_back</th>\n",
              "      <th>sensor_front</th>\n",
              "      <th>failure</th>\n",
              "      <th>operator0</th>\n",
              "      <th>operator1</th>\n",
              "      <th>operator2</th>\n",
              "      <th>...</th>\n",
              "      <th>operator5</th>\n",
              "      <th>operator6</th>\n",
              "      <th>operator7</th>\n",
              "      <th>assembly_0</th>\n",
              "      <th>assembly_1</th>\n",
              "      <th>assembly_2</th>\n",
              "      <th>assembly_3</th>\n",
              "      <th>assembly_4</th>\n",
              "      <th>assembly_5</th>\n",
              "      <th>assembly_6</th>\n",
              "    </tr>\n",
              "  </thead>\n",
              "  <tbody>\n",
              "    <tr>\n",
              "      <th>0</th>\n",
              "      <td>2020-01-06 00:24:38</td>\n",
              "      <td>-1.402682</td>\n",
              "      <td>4.241747</td>\n",
              "      <td>99</td>\n",
              "      <td>-3.405993</td>\n",
              "      <td>3.450679</td>\n",
              "      <td>0</td>\n",
              "      <td>False</td>\n",
              "      <td>False</td>\n",
              "      <td>False</td>\n",
              "      <td>...</td>\n",
              "      <td>False</td>\n",
              "      <td>False</td>\n",
              "      <td>False</td>\n",
              "      <td>False</td>\n",
              "      <td>False</td>\n",
              "      <td>False</td>\n",
              "      <td>True</td>\n",
              "      <td>False</td>\n",
              "      <td>False</td>\n",
              "      <td>False</td>\n",
              "    </tr>\n",
              "    <tr>\n",
              "      <th>1</th>\n",
              "      <td>2020-01-06 01:39:16</td>\n",
              "      <td>-0.126422</td>\n",
              "      <td>1.930147</td>\n",
              "      <td>101</td>\n",
              "      <td>-3.413560</td>\n",
              "      <td>2.879816</td>\n",
              "      <td>0</td>\n",
              "      <td>False</td>\n",
              "      <td>False</td>\n",
              "      <td>False</td>\n",
              "      <td>...</td>\n",
              "      <td>False</td>\n",
              "      <td>False</td>\n",
              "      <td>False</td>\n",
              "      <td>False</td>\n",
              "      <td>False</td>\n",
              "      <td>True</td>\n",
              "      <td>False</td>\n",
              "      <td>False</td>\n",
              "      <td>False</td>\n",
              "      <td>False</td>\n",
              "    </tr>\n",
              "    <tr>\n",
              "      <th>2</th>\n",
              "      <td>2020-01-06 01:49:17</td>\n",
              "      <td>0.102070</td>\n",
              "      <td>4.555567</td>\n",
              "      <td>100</td>\n",
              "      <td>-3.728655</td>\n",
              "      <td>0.073900</td>\n",
              "      <td>0</td>\n",
              "      <td>False</td>\n",
              "      <td>False</td>\n",
              "      <td>True</td>\n",
              "      <td>...</td>\n",
              "      <td>False</td>\n",
              "      <td>False</td>\n",
              "      <td>False</td>\n",
              "      <td>False</td>\n",
              "      <td>True</td>\n",
              "      <td>False</td>\n",
              "      <td>False</td>\n",
              "      <td>False</td>\n",
              "      <td>False</td>\n",
              "      <td>False</td>\n",
              "    </tr>\n",
              "    <tr>\n",
              "      <th>3</th>\n",
              "      <td>2020-01-06 02:27:52</td>\n",
              "      <td>0.337126</td>\n",
              "      <td>0.903267</td>\n",
              "      <td>102</td>\n",
              "      <td>-3.562049</td>\n",
              "      <td>3.185188</td>\n",
              "      <td>0</td>\n",
              "      <td>False</td>\n",
              "      <td>False</td>\n",
              "      <td>True</td>\n",
              "      <td>...</td>\n",
              "      <td>False</td>\n",
              "      <td>False</td>\n",
              "      <td>False</td>\n",
              "      <td>False</td>\n",
              "      <td>False</td>\n",
              "      <td>True</td>\n",
              "      <td>False</td>\n",
              "      <td>False</td>\n",
              "      <td>False</td>\n",
              "      <td>False</td>\n",
              "    </tr>\n",
              "    <tr>\n",
              "      <th>4</th>\n",
              "      <td>2020-01-06 02:28:29</td>\n",
              "      <td>-2.618703</td>\n",
              "      <td>-0.498052</td>\n",
              "      <td>100</td>\n",
              "      <td>2.491643</td>\n",
              "      <td>-2.057373</td>\n",
              "      <td>0</td>\n",
              "      <td>False</td>\n",
              "      <td>False</td>\n",
              "      <td>True</td>\n",
              "      <td>...</td>\n",
              "      <td>False</td>\n",
              "      <td>False</td>\n",
              "      <td>False</td>\n",
              "      <td>False</td>\n",
              "      <td>True</td>\n",
              "      <td>False</td>\n",
              "      <td>False</td>\n",
              "      <td>False</td>\n",
              "      <td>False</td>\n",
              "      <td>False</td>\n",
              "    </tr>\n",
              "    <tr>\n",
              "      <th>...</th>\n",
              "      <td>...</td>\n",
              "      <td>...</td>\n",
              "      <td>...</td>\n",
              "      <td>...</td>\n",
              "      <td>...</td>\n",
              "      <td>...</td>\n",
              "      <td>...</td>\n",
              "      <td>...</td>\n",
              "      <td>...</td>\n",
              "      <td>...</td>\n",
              "      <td>...</td>\n",
              "      <td>...</td>\n",
              "      <td>...</td>\n",
              "      <td>...</td>\n",
              "      <td>...</td>\n",
              "      <td>...</td>\n",
              "      <td>...</td>\n",
              "      <td>...</td>\n",
              "      <td>...</td>\n",
              "      <td>...</td>\n",
              "      <td>...</td>\n",
              "    </tr>\n",
              "    <tr>\n",
              "      <th>44995</th>\n",
              "      <td>2022-01-08 23:56:27</td>\n",
              "      <td>0.592558</td>\n",
              "      <td>-0.735717</td>\n",
              "      <td>100</td>\n",
              "      <td>0.679219</td>\n",
              "      <td>0.747613</td>\n",
              "      <td>0</td>\n",
              "      <td>False</td>\n",
              "      <td>False</td>\n",
              "      <td>True</td>\n",
              "      <td>...</td>\n",
              "      <td>False</td>\n",
              "      <td>False</td>\n",
              "      <td>False</td>\n",
              "      <td>False</td>\n",
              "      <td>True</td>\n",
              "      <td>False</td>\n",
              "      <td>False</td>\n",
              "      <td>False</td>\n",
              "      <td>False</td>\n",
              "      <td>False</td>\n",
              "    </tr>\n",
              "    <tr>\n",
              "      <th>44996</th>\n",
              "      <td>2022-01-08 23:56:53</td>\n",
              "      <td>-1.458949</td>\n",
              "      <td>-0.761666</td>\n",
              "      <td>100</td>\n",
              "      <td>1.850105</td>\n",
              "      <td>3.902713</td>\n",
              "      <td>0</td>\n",
              "      <td>False</td>\n",
              "      <td>False</td>\n",
              "      <td>True</td>\n",
              "      <td>...</td>\n",
              "      <td>False</td>\n",
              "      <td>False</td>\n",
              "      <td>False</td>\n",
              "      <td>False</td>\n",
              "      <td>False</td>\n",
              "      <td>False</td>\n",
              "      <td>True</td>\n",
              "      <td>False</td>\n",
              "      <td>False</td>\n",
              "      <td>False</td>\n",
              "    </tr>\n",
              "    <tr>\n",
              "      <th>44997</th>\n",
              "      <td>2022-01-08 23:57:56</td>\n",
              "      <td>-0.838191</td>\n",
              "      <td>-2.909899</td>\n",
              "      <td>98</td>\n",
              "      <td>0.860230</td>\n",
              "      <td>0.894338</td>\n",
              "      <td>0</td>\n",
              "      <td>False</td>\n",
              "      <td>False</td>\n",
              "      <td>True</td>\n",
              "      <td>...</td>\n",
              "      <td>False</td>\n",
              "      <td>False</td>\n",
              "      <td>False</td>\n",
              "      <td>True</td>\n",
              "      <td>False</td>\n",
              "      <td>False</td>\n",
              "      <td>False</td>\n",
              "      <td>False</td>\n",
              "      <td>False</td>\n",
              "      <td>False</td>\n",
              "    </tr>\n",
              "    <tr>\n",
              "      <th>44998</th>\n",
              "      <td>2022-01-08 23:58:15</td>\n",
              "      <td>-1.728545</td>\n",
              "      <td>2.942215</td>\n",
              "      <td>101</td>\n",
              "      <td>-0.425456</td>\n",
              "      <td>2.185823</td>\n",
              "      <td>0</td>\n",
              "      <td>False</td>\n",
              "      <td>False</td>\n",
              "      <td>False</td>\n",
              "      <td>...</td>\n",
              "      <td>False</td>\n",
              "      <td>False</td>\n",
              "      <td>False</td>\n",
              "      <td>False</td>\n",
              "      <td>False</td>\n",
              "      <td>False</td>\n",
              "      <td>True</td>\n",
              "      <td>False</td>\n",
              "      <td>False</td>\n",
              "      <td>False</td>\n",
              "    </tr>\n",
              "    <tr>\n",
              "      <th>44999</th>\n",
              "      <td>2022-01-08 23:59:09</td>\n",
              "      <td>-0.355071</td>\n",
              "      <td>0.974712</td>\n",
              "      <td>100</td>\n",
              "      <td>-1.135932</td>\n",
              "      <td>-0.457448</td>\n",
              "      <td>0</td>\n",
              "      <td>False</td>\n",
              "      <td>False</td>\n",
              "      <td>False</td>\n",
              "      <td>...</td>\n",
              "      <td>False</td>\n",
              "      <td>False</td>\n",
              "      <td>False</td>\n",
              "      <td>True</td>\n",
              "      <td>False</td>\n",
              "      <td>False</td>\n",
              "      <td>False</td>\n",
              "      <td>False</td>\n",
              "      <td>False</td>\n",
              "      <td>False</td>\n",
              "    </tr>\n",
              "  </tbody>\n",
              "</table>\n",
              "<p>45000 rows × 22 columns</p>\n",
              "</div>"
            ],
            "text/plain": [
              "                 timestamp  heat_deviation  speed_deviation  \\\n",
              "0      2020-01-06 00:24:38       -1.402682         4.241747   \n",
              "1      2020-01-06 01:39:16       -0.126422         1.930147   \n",
              "2      2020-01-06 01:49:17        0.102070         4.555567   \n",
              "3      2020-01-06 02:27:52        0.337126         0.903267   \n",
              "4      2020-01-06 02:28:29       -2.618703        -0.498052   \n",
              "...                    ...             ...              ...   \n",
              "44995  2022-01-08 23:56:27        0.592558        -0.735717   \n",
              "44996  2022-01-08 23:56:53       -1.458949        -0.761666   \n",
              "44997  2022-01-08 23:57:56       -0.838191        -2.909899   \n",
              "44998  2022-01-08 23:58:15       -1.728545         2.942215   \n",
              "44999  2022-01-08 23:59:09       -0.355071         0.974712   \n",
              "\n",
              "       days_since_last_service  sensor_back  sensor_front  failure  operator0  \\\n",
              "0                           99    -3.405993      3.450679        0      False   \n",
              "1                          101    -3.413560      2.879816        0      False   \n",
              "2                          100    -3.728655      0.073900        0      False   \n",
              "3                          102    -3.562049      3.185188        0      False   \n",
              "4                          100     2.491643     -2.057373        0      False   \n",
              "...                        ...          ...           ...      ...        ...   \n",
              "44995                      100     0.679219      0.747613        0      False   \n",
              "44996                      100     1.850105      3.902713        0      False   \n",
              "44997                       98     0.860230      0.894338        0      False   \n",
              "44998                      101    -0.425456      2.185823        0      False   \n",
              "44999                      100    -1.135932     -0.457448        0      False   \n",
              "\n",
              "       operator1  operator2  ...  operator5  operator6  operator7  assembly_0  \\\n",
              "0          False      False  ...      False      False      False       False   \n",
              "1          False      False  ...      False      False      False       False   \n",
              "2          False       True  ...      False      False      False       False   \n",
              "3          False       True  ...      False      False      False       False   \n",
              "4          False       True  ...      False      False      False       False   \n",
              "...          ...        ...  ...        ...        ...        ...         ...   \n",
              "44995      False       True  ...      False      False      False       False   \n",
              "44996      False       True  ...      False      False      False       False   \n",
              "44997      False       True  ...      False      False      False        True   \n",
              "44998      False      False  ...      False      False      False       False   \n",
              "44999      False      False  ...      False      False      False        True   \n",
              "\n",
              "       assembly_1  assembly_2  assembly_3  assembly_4  assembly_5  assembly_6  \n",
              "0           False       False        True       False       False       False  \n",
              "1           False        True       False       False       False       False  \n",
              "2            True       False       False       False       False       False  \n",
              "3           False        True       False       False       False       False  \n",
              "4            True       False       False       False       False       False  \n",
              "...           ...         ...         ...         ...         ...         ...  \n",
              "44995        True       False       False       False       False       False  \n",
              "44996       False       False        True       False       False       False  \n",
              "44997       False       False       False       False       False       False  \n",
              "44998       False       False        True       False       False       False  \n",
              "44999       False       False       False       False       False       False  \n",
              "\n",
              "[45000 rows x 22 columns]"
            ]
          },
          "execution_count": 3,
          "metadata": {},
          "output_type": "execute_result"
        }
      ],
      "source": [
        "dataset = pd.read_csv(\"./data/predictive_maintenance_update.csv\")\n",
        "\n",
        "operators = pd.get_dummies(dataset[\"operator\"])\n",
        "assembly_line_nums = pd.get_dummies(dataset[\"assembly_line_num\"])\n",
        "\n",
        "dataset_dummies = pd.merge(dataset, operators, left_index=True, right_index=True).drop(columns=\"operator\")\n",
        "dataset_dummies = pd.merge(dataset_dummies, assembly_line_nums, left_index=True, right_index=True).drop(columns=\"assembly_line_num\")\n",
        "\n",
        "uint8_columns = [\n",
        "    'operator0', 'operator1', 'operator2', 'operator3', 'operator4',\n",
        "    'operator5', 'operator6', 'operator7', 'assembly_0', 'assembly_1',\n",
        "    'assembly_2', 'assembly_3', 'assembly_4', 'assembly_5', 'assembly_6'\n",
        "]\n",
        "\n",
        "# Convert each column in the list to bool\n",
        "for column in uint8_columns:\n",
        "    dataset_dummies[column] = dataset_dummies[column].astype(bool)\n",
        "\n",
        "dataset_dummies"
      ]
    },
    {
      "cell_type": "code",
      "execution_count": 4,
      "metadata": {
        "gather": {
          "logged": 1707995123873
        },
        "jupyter": {
          "outputs_hidden": false,
          "source_hidden": false
        },
        "nteract": {
          "transient": {
            "deleting": false
          }
        }
      },
      "outputs": [
        {
          "name": "stdout",
          "output_type": "stream",
          "text": [
            "reference min:  2023-02-07 14:51:31.705794  reference max:  2024-02-08 14:17:47.705794\n",
            "production min:  2024-02-08 14:43:00.705794  production max:  2025-02-10 14:26:02.705794\n"
          ]
        }
      ],
      "source": [
        "dataset_dummies[\"timestamp\"] = pd.to_datetime(dataset_dummies[\"timestamp\"])\n",
        "\n",
        "# Define timestamps for splitting\n",
        "production_start = pd.to_datetime(\"01/06/2021\")\n",
        "seven_day_ago = pd.to_datetime(\"today\") - pd.Timedelta(days=7)\n",
        "offset = seven_day_ago - production_start\n",
        "\n",
        "# Add the offset to all timestamps in the dataset\n",
        "dataset_dummies[\"timestamp\"] = dataset_dummies[\"timestamp\"] + offset\n",
        "\n",
        "# Update the production_start to today\n",
        "production_start = seven_day_ago\n",
        "\n",
        "# Split the dataset\n",
        "training = dataset_dummies[dataset_dummies[\"timestamp\"] <= production_start]\n",
        "production = dataset_dummies[dataset_dummies[\"timestamp\"] >= production_start]\n",
        "\n",
        "# Sanity checking\n",
        "print(\"reference min: \", training[\"timestamp\"].min(), \" reference max: \", training[\"timestamp\"].max())\n",
        "print(\"production min: \", production[\"timestamp\"].min(), \" production max: \", production[\"timestamp\"].max())"
      ]
    },
    {
      "cell_type": "code",
      "execution_count": 5,
      "metadata": {
        "gather": {
          "logged": 1707995124341
        },
        "jupyter": {
          "outputs_hidden": false,
          "source_hidden": false
        },
        "nteract": {
          "transient": {
            "deleting": false
          }
        }
      },
      "outputs": [],
      "source": [
        "shutil.rmtree(\"data/tmp/\", ignore_errors=True)\n",
        "\n",
        "os.makedirs(\"data/tmp\", exist_ok=False)\n",
        "os.makedirs(\"data/tmp/training\", exist_ok=False)\n",
        "os.makedirs(\"data/tmp/production\", exist_ok=False)\n",
        "os.makedirs(\"data/tmp/dataset\", exist_ok=False)\n",
        "\n",
        "# dataset_dummies.to_parquet(\"data/tmp/dataset/dataset.parquet\", index=False)\n",
        "training.to_parquet(\"data/tmp/training/training.parquet\", index=False)\n",
        "production.to_parquet(\"data/tmp/production/production.parquet\", index=False)"
      ]
    },
    {
      "cell_type": "markdown",
      "metadata": {
        "nteract": {
          "transient": {
            "deleting": false
          }
        }
      },
      "source": [
        "## Create AzureML Datasets\n",
        "### Uri_folder Dataset (Training, Production)"
      ]
    },
    {
      "cell_type": "code",
      "execution_count": 6,
      "metadata": {
        "jupyter": {
          "outputs_hidden": false,
          "source_hidden": false
        },
        "nteract": {
          "transient": {
            "deleting": false
          }
        }
      },
      "outputs": [],
      "source": [
        "import time\n",
        "\n",
        "from azure.ai.ml import MLClient\n",
        "from azure.ai.ml.entities import Data\n",
        "from azure.identity import DefaultAzureCredential\n",
        "from azure.ai.ml.constants import AssetTypes"
      ]
    },
    {
      "cell_type": "code",
      "execution_count": 9,
      "metadata": {
        "gather": {
          "logged": 1707995125738
        },
        "jupyter": {
          "outputs_hidden": false,
          "source_hidden": false
        },
        "nteract": {
          "transient": {
            "deleting": false
          }
        }
      },
      "outputs": [
        {
          "name": "stderr",
          "output_type": "stream",
          "text": [
            "Found the config file in: .\\config.json\n"
          ]
        }
      ],
      "source": [
        "ml_client = MLClient.from_config(credential=DefaultAzureCredential())\n",
        "\n",
        "VERSION = time.strftime(\"%Y.%m.%d.%H%M%S\", time.gmtime())"
      ]
    },
    {
      "cell_type": "code",
      "execution_count": 10,
      "metadata": {
        "gather": {
          "logged": 1707995129070
        },
        "jupyter": {
          "outputs_hidden": false,
          "source_hidden": false
        },
        "nteract": {
          "transient": {
            "deleting": false
          }
        }
      },
      "outputs": [
        {
          "name": "stderr",
          "output_type": "stream",
          "text": [
            "\u001b[32mUploading training.parquet\u001b[32m (< 1 MB): 100%|##########| 1.03M/1.03M [00:00<00:00, 3.71MB/s]\n",
            "\u001b[39m\n",
            "\n",
            "\u001b[32mUploading production (1.29 MBs): 100%|##########| 1287643/1287643 [00:00<00:00, 3891602.67it/s]\n",
            "\u001b[39m\n",
            "\n"
          ]
        },
        {
          "data": {
            "text/plain": [
              "Data({'skip_validation': False, 'mltable_schema_url': None, 'referenced_uris': None, 'type': 'uri_folder', 'is_anonymous': False, 'auto_increment_version': False, 'auto_delete_setting': None, 'name': 'synthetic-urifolder-production', 'description': 'synthetic Dataset (production) for demonstrating data drift; parquet file', 'tags': {}, 'properties': {}, 'print_as_yaml': True, 'id': '/subscriptions/13c1109b-ba76-4ca6-8161-8767bdf3c75c/resourceGroups/ai-services-rg/providers/Microsoft.MachineLearningServices/workspaces/schaeffler-ops-it-aml/data/synthetic-urifolder-production/versions/2024.02.15.133553', 'Resource__source_path': None, 'base_path': 'c:\\\\code\\\\demo\\\\azure-mlops-end2end\\\\notebooks', 'creation_context': <azure.ai.ml.entities._system_data.SystemData object at 0x0000024075125BD0>, 'serialize': <msrest.serialization.Serializer object at 0x0000024074E25050>, 'version': '2024.02.15.133553', 'latest_version': None, 'path': 'azureml://subscriptions/13c1109b-ba76-4ca6-8161-8767bdf3c75c/resourcegroups/ai-services-rg/workspaces/schaeffler-ops-it-aml/datastores/workspaceblobstore/paths/LocalUpload/654c97df60ed48b64909ed8d5ee85720/production/', 'datastore': None})"
            ]
          },
          "execution_count": 10,
          "metadata": {},
          "output_type": "execute_result"
        }
      ],
      "source": [
        "training_dataset = Data(\n",
        "    path=\"./data/tmp/training/training.parquet\",\n",
        "    type=AssetTypes.URI_FILE,\n",
        "    description=\"synthetic Dataset (training) for demonstrating data drift; parquet file\",\n",
        "    name=\"synthetic-urifile-training\",\n",
        "    version=VERSION,\n",
        ")\n",
        "\n",
        "ml_client.data.create_or_update(training_dataset)\n",
        "\n",
        "production_dataset = Data(\n",
        "    path=\"./data/tmp/production\",\n",
        "    type=AssetTypes.URI_FOLDER,\n",
        "    description=\"synthetic Dataset (production) for demonstrating data drift; parquet file\",\n",
        "    name=\"synthetic-urifolder-production\",\n",
        "    version=VERSION,\n",
        ")\n",
        "\n",
        "ml_client.data.create_or_update(production_dataset)"
      ]
    },
    {
      "cell_type": "markdown",
      "metadata": {
        "nteract": {
          "transient": {
            "deleting": false
          }
        }
      },
      "source": [
        "## MLTable Dataset (Training Data)"
      ]
    },
    {
      "cell_type": "code",
      "execution_count": 13,
      "metadata": {
        "gather": {
          "logged": 1707995131280
        },
        "jupyter": {
          "outputs_hidden": false,
          "source_hidden": false
        },
        "nteract": {
          "transient": {
            "deleting": false
          }
        }
      },
      "outputs": [
        {
          "data": {
            "text/html": [
              "<div>\n",
              "<style scoped>\n",
              "    .dataframe tbody tr th:only-of-type {\n",
              "        vertical-align: middle;\n",
              "    }\n",
              "\n",
              "    .dataframe tbody tr th {\n",
              "        vertical-align: top;\n",
              "    }\n",
              "\n",
              "    .dataframe thead th {\n",
              "        text-align: right;\n",
              "    }\n",
              "</style>\n",
              "<table border=\"1\" class=\"dataframe\">\n",
              "  <thead>\n",
              "    <tr style=\"text-align: right;\">\n",
              "      <th></th>\n",
              "      <th>timestamp</th>\n",
              "      <th>heat_deviation</th>\n",
              "      <th>speed_deviation</th>\n",
              "      <th>days_since_last_service</th>\n",
              "      <th>sensor_back</th>\n",
              "      <th>sensor_front</th>\n",
              "      <th>failure</th>\n",
              "      <th>operator0</th>\n",
              "      <th>operator1</th>\n",
              "      <th>operator2</th>\n",
              "      <th>...</th>\n",
              "      <th>operator5</th>\n",
              "      <th>operator6</th>\n",
              "      <th>operator7</th>\n",
              "      <th>assembly_0</th>\n",
              "      <th>assembly_1</th>\n",
              "      <th>assembly_2</th>\n",
              "      <th>assembly_3</th>\n",
              "      <th>assembly_4</th>\n",
              "      <th>assembly_5</th>\n",
              "      <th>assembly_6</th>\n",
              "    </tr>\n",
              "  </thead>\n",
              "  <tbody>\n",
              "    <tr>\n",
              "      <th>0</th>\n",
              "      <td>2023-02-07 14:51:31.705794</td>\n",
              "      <td>-1.402682</td>\n",
              "      <td>4.241747</td>\n",
              "      <td>99</td>\n",
              "      <td>-3.405993</td>\n",
              "      <td>3.450679</td>\n",
              "      <td>0</td>\n",
              "      <td>False</td>\n",
              "      <td>False</td>\n",
              "      <td>False</td>\n",
              "      <td>...</td>\n",
              "      <td>False</td>\n",
              "      <td>False</td>\n",
              "      <td>False</td>\n",
              "      <td>False</td>\n",
              "      <td>False</td>\n",
              "      <td>False</td>\n",
              "      <td>True</td>\n",
              "      <td>False</td>\n",
              "      <td>False</td>\n",
              "      <td>False</td>\n",
              "    </tr>\n",
              "    <tr>\n",
              "      <th>1</th>\n",
              "      <td>2023-02-07 16:06:09.705794</td>\n",
              "      <td>-0.126422</td>\n",
              "      <td>1.930147</td>\n",
              "      <td>101</td>\n",
              "      <td>-3.413560</td>\n",
              "      <td>2.879816</td>\n",
              "      <td>0</td>\n",
              "      <td>False</td>\n",
              "      <td>False</td>\n",
              "      <td>False</td>\n",
              "      <td>...</td>\n",
              "      <td>False</td>\n",
              "      <td>False</td>\n",
              "      <td>False</td>\n",
              "      <td>False</td>\n",
              "      <td>False</td>\n",
              "      <td>True</td>\n",
              "      <td>False</td>\n",
              "      <td>False</td>\n",
              "      <td>False</td>\n",
              "      <td>False</td>\n",
              "    </tr>\n",
              "    <tr>\n",
              "      <th>2</th>\n",
              "      <td>2023-02-07 16:16:10.705794</td>\n",
              "      <td>0.102070</td>\n",
              "      <td>4.555567</td>\n",
              "      <td>100</td>\n",
              "      <td>-3.728655</td>\n",
              "      <td>0.073900</td>\n",
              "      <td>0</td>\n",
              "      <td>False</td>\n",
              "      <td>False</td>\n",
              "      <td>True</td>\n",
              "      <td>...</td>\n",
              "      <td>False</td>\n",
              "      <td>False</td>\n",
              "      <td>False</td>\n",
              "      <td>False</td>\n",
              "      <td>True</td>\n",
              "      <td>False</td>\n",
              "      <td>False</td>\n",
              "      <td>False</td>\n",
              "      <td>False</td>\n",
              "      <td>False</td>\n",
              "    </tr>\n",
              "    <tr>\n",
              "      <th>3</th>\n",
              "      <td>2023-02-07 16:54:45.705794</td>\n",
              "      <td>0.337126</td>\n",
              "      <td>0.903267</td>\n",
              "      <td>102</td>\n",
              "      <td>-3.562049</td>\n",
              "      <td>3.185188</td>\n",
              "      <td>0</td>\n",
              "      <td>False</td>\n",
              "      <td>False</td>\n",
              "      <td>True</td>\n",
              "      <td>...</td>\n",
              "      <td>False</td>\n",
              "      <td>False</td>\n",
              "      <td>False</td>\n",
              "      <td>False</td>\n",
              "      <td>False</td>\n",
              "      <td>True</td>\n",
              "      <td>False</td>\n",
              "      <td>False</td>\n",
              "      <td>False</td>\n",
              "      <td>False</td>\n",
              "    </tr>\n",
              "    <tr>\n",
              "      <th>4</th>\n",
              "      <td>2023-02-07 16:55:22.705794</td>\n",
              "      <td>-2.618703</td>\n",
              "      <td>-0.498052</td>\n",
              "      <td>100</td>\n",
              "      <td>2.491643</td>\n",
              "      <td>-2.057373</td>\n",
              "      <td>0</td>\n",
              "      <td>False</td>\n",
              "      <td>False</td>\n",
              "      <td>True</td>\n",
              "      <td>...</td>\n",
              "      <td>False</td>\n",
              "      <td>False</td>\n",
              "      <td>False</td>\n",
              "      <td>False</td>\n",
              "      <td>True</td>\n",
              "      <td>False</td>\n",
              "      <td>False</td>\n",
              "      <td>False</td>\n",
              "      <td>False</td>\n",
              "      <td>False</td>\n",
              "    </tr>\n",
              "  </tbody>\n",
              "</table>\n",
              "<p>5 rows × 22 columns</p>\n",
              "</div>"
            ],
            "text/plain": [
              "                   timestamp  heat_deviation  speed_deviation  \\\n",
              "0 2023-02-07 14:51:31.705794       -1.402682         4.241747   \n",
              "1 2023-02-07 16:06:09.705794       -0.126422         1.930147   \n",
              "2 2023-02-07 16:16:10.705794        0.102070         4.555567   \n",
              "3 2023-02-07 16:54:45.705794        0.337126         0.903267   \n",
              "4 2023-02-07 16:55:22.705794       -2.618703        -0.498052   \n",
              "\n",
              "   days_since_last_service  sensor_back  sensor_front  failure  operator0  \\\n",
              "0                       99    -3.405993      3.450679        0      False   \n",
              "1                      101    -3.413560      2.879816        0      False   \n",
              "2                      100    -3.728655      0.073900        0      False   \n",
              "3                      102    -3.562049      3.185188        0      False   \n",
              "4                      100     2.491643     -2.057373        0      False   \n",
              "\n",
              "   operator1  operator2  ...  operator5  operator6  operator7  assembly_0  \\\n",
              "0      False      False  ...      False      False      False       False   \n",
              "1      False      False  ...      False      False      False       False   \n",
              "2      False       True  ...      False      False      False       False   \n",
              "3      False       True  ...      False      False      False       False   \n",
              "4      False       True  ...      False      False      False       False   \n",
              "\n",
              "   assembly_1  assembly_2  assembly_3  assembly_4  assembly_5  assembly_6  \n",
              "0       False       False        True       False       False       False  \n",
              "1       False        True       False       False       False       False  \n",
              "2        True       False       False       False       False       False  \n",
              "3       False        True       False       False       False       False  \n",
              "4        True       False       False       False       False       False  \n",
              "\n",
              "[5 rows x 22 columns]"
            ]
          },
          "execution_count": 13,
          "metadata": {},
          "output_type": "execute_result"
        }
      ],
      "source": [
        "import mltable\n",
        "\n",
        "data_asset = ml_client.data.get(name=\"synthetic-urifile-training\", version=VERSION)\n",
        "\n",
        "path = {\n",
        "    'file': data_asset.path\n",
        "}\n",
        "\n",
        "tbl = mltable.from_parquet_files(paths=[path])\n",
        "df = tbl.to_pandas_dataframe()\n",
        "df.head()"
      ]
    },
    {
      "cell_type": "code",
      "execution_count": 14,
      "metadata": {
        "gather": {
          "logged": 1707995132228
        },
        "jupyter": {
          "outputs_hidden": false,
          "source_hidden": false
        },
        "nteract": {
          "transient": {
            "deleting": false
          }
        }
      },
      "outputs": [
        {
          "name": "stderr",
          "output_type": "stream",
          "text": [
            "\u001b[32mUploading mltable-traning (0.0 MBs): 100%|##########| 344/344 [00:00<00:00, 10114.55it/s]\n",
            "\u001b[39m\n",
            "\n"
          ]
        },
        {
          "data": {
            "text/plain": [
              "Data({'skip_validation': False, 'mltable_schema_url': None, 'referenced_uris': ['azureml://subscriptions/13c1109b-ba76-4ca6-8161-8767bdf3c75c/resourcegroups/ai-services-rg/workspaces/schaeffler-ops-it-aml/datastores/workspaceblobstore/paths/LocalUpload/3cc268c85ae547b5964218eb850e897f/training.parquet'], 'type': 'mltable', 'is_anonymous': False, 'auto_increment_version': False, 'auto_delete_setting': None, 'name': 'synthetic-mltable-training', 'description': 'synthetic Dataset (training, MLTABLE) for demonstrating data drift', 'tags': {}, 'properties': {}, 'print_as_yaml': True, 'id': '/subscriptions/13c1109b-ba76-4ca6-8161-8767bdf3c75c/resourceGroups/ai-services-rg/providers/Microsoft.MachineLearningServices/workspaces/schaeffler-ops-it-aml/data/synthetic-mltable-training/versions/2024.02.15.133553', 'Resource__source_path': None, 'base_path': 'c:\\\\code\\\\demo\\\\azure-mlops-end2end\\\\notebooks', 'creation_context': <azure.ai.ml.entities._system_data.SystemData object at 0x0000024075DF40D0>, 'serialize': <msrest.serialization.Serializer object at 0x0000024075D8B850>, 'version': '2024.02.15.133553', 'latest_version': None, 'path': 'azureml://subscriptions/13c1109b-ba76-4ca6-8161-8767bdf3c75c/resourcegroups/ai-services-rg/workspaces/schaeffler-ops-it-aml/datastores/workspaceblobstore/paths/LocalUpload/21fe0288fa6a0dce88784bee7e290967/mltable-traning/', 'datastore': None})"
            ]
          },
          "execution_count": 14,
          "metadata": {},
          "output_type": "execute_result"
        }
      ],
      "source": [
        "tbl.save(path=\"data/tmp/mltable-traning\", overwrite=True)\n",
        "\n",
        "dataset = Data(\n",
        "    path=\"data/tmp/mltable-traning\",\n",
        "    type=AssetTypes.MLTABLE,\n",
        "    description=f\"synthetic Dataset (training, MLTABLE) for demonstrating data drift\",\n",
        "    name=f\"synthetic-mltable-training\",\n",
        "    version=VERSION,\n",
        ")\n",
        "\n",
        "ml_client.data.create_or_update(dataset)"
      ]
    },
    {
      "cell_type": "code",
      "execution_count": 15,
      "metadata": {},
      "outputs": [],
      "source": [
        "shutil.rmtree(\"data/tmp/\", ignore_errors=True)"
      ]
    },
    {
      "cell_type": "code",
      "execution_count": null,
      "metadata": {},
      "outputs": [],
      "source": []
    }
  ],
  "metadata": {
    "kernel_info": {
      "name": "python310-sdkv2"
    },
    "kernelspec": {
      "display_name": "azureml_py310_sdkv2",
      "language": "python",
      "name": "python3"
    },
    "language_info": {
      "codemirror_mode": {
        "name": "ipython",
        "version": 3
      },
      "file_extension": ".py",
      "mimetype": "text/x-python",
      "name": "python",
      "nbconvert_exporter": "python",
      "pygments_lexer": "ipython3",
      "version": "3.11.8"
    },
    "microsoft": {
      "host": {
        "AzureML": {
          "notebookHasBeenCompleted": true
        }
      },
      "ms_spell_check": {
        "ms_spell_check_language": "en"
      }
    },
    "nteract": {
      "version": "nteract-front-end@1.0.0"
    }
  },
  "nbformat": 4,
  "nbformat_minor": 2
}
